{
 "cells": [
  {
   "cell_type": "markdown",
   "metadata": {},
   "source": [
    "# Testing the AI Service /crop Endpoint\n",
    "\n",
    "This notebook serves as a test client for the `/crop` endpoint of the AI service. It will:\n",
    "1. Load an image from a local file\n",
    "2. Convert it to base64\n",
    "3. Send it to the /crop endpoint\n",
    "4. Display both the original and cropped images"
   ]
  },
  {
   "cell_type": "code",
   "execution_count": null,
   "metadata": {},
   "source": [
    "# Import necessary libraries\n",
    "import requests\n",
    "import base64\n",
    "import json\n",
    "import io\n",
    "import os\n",
    "from PIL import Image\n",
    "import matplotlib.pyplot as plt"
   ]
  },
  {
   "cell_type": "code",
   "execution_count": null,
   "metadata": {},
   "source": [
    "# Configuration\n",
    "AI_SERVICE_URL = 'http://localhost:5050/crop'\n",
    "\n",
    "# Create a test_images directory if it doesn't exist\n",
    "if not os.path.exists('test_images'):\n",
    "    os.makedirs('test_images')\n",
    "    print(\"Created 'test_images' directory. Please put your test images there.\")"
   ]
  },
  {
   "cell_type": "code",
   "execution_count": null,
   "metadata": {},
   "source": [
    "# Function to list all image files in the test_images directory\n",
    "def list_image_files():\n",
    "    if not os.path.exists('test_images'):\n",
    "        return []\n",
    "    \n",
    "    image_extensions = ['.jpg', '.jpeg', '.png', '.gif', '.bmp']\n",
    "    return [\n",
    "        f for f in os.listdir('test_images') \n",
    "        if os.path.isfile(os.path.join('test_images', f)) and \n",
    "        any(f.lower().endswith(ext) for ext in image_extensions)\n",
    "    ]\n",
    "\n",
    "# List available image files\n",
    "image_files = list_image_files()\n",
    "if image_files:\n",
    "    print(\"Available test images:\")\n",
    "    for i, file in enumerate(image_files):\n",
    "        print(f\"{i+1}. {file}\")\n",
    "else:\n",
    "    print(\"No image files found in 'test_images' directory. Please add some test images.\")"
   ]
  },
  {
   "cell_type": "code",
   "execution_count": null,
   "metadata": {},
   "source": [
    "# Function to load an image and convert it to base64\n",
    "def image_to_base64(file_path):\n",
    "    with open(file_path, \"rb\") as image_file:\n",
    "        encoded_string = base64.b64encode(image_file.read()).decode('utf-8')\n",
    "    return encoded_string\n",
    "\n",
    "# Function to convert base64 back to an image\n",
    "def base64_to_image(base64_string):\n",
    "    image_data = base64.b64decode(base64_string)\n",
    "    return Image.open(io.BytesIO(image_data))"
   ]
  },
  {
   "cell_type": "code",
   "execution_count": null,
   "metadata": {},
   "source": [
    "# Select an image to test (change the index as needed)\n",
    "image_index = 0  # Change this to select a different image from the available list\n",
    "\n",
    "if image_files:\n",
    "    selected_image = image_files[image_index]\n",
    "    image_path = os.path.join('test_images', selected_image)\n",
    "    print(f\"Selected image: {selected_image}\")\n",
    "    \n",
    "    # Display the original image\n",
    "    original_img = Image.open(image_path)\n",
    "    plt.figure(figsize=(10, 8))\n",
    "    plt.imshow(original_img)\n",
    "    plt.title(\"Original Image\")\n",
    "    plt.axis('off')\n",
    "    plt.show()\n",
    "    \n",
    "    # Convert the image to base64\n",
    "    base64_image = image_to_base64(image_path)\n",
    "    print(f\"Image converted to base64 (length: {len(base64_image)} characters)\")\n",
    "else:\n",
    "    print(\"Please add images to the 'test_images' directory before running this cell.\")"
   ]
  },
  {
   "cell_type": "code",
   "execution_count": null,
   "metadata": {},
   "source": [
    "# Function to send the image to the /crop endpoint and process the response\n",
    "def crop_image(base64_image):\n",
    "    payload = {\"image\": base64_image}\n",
    "    \n",
    "    try:\n",
    "        response = requests.post(AI_SERVICE_URL, json=payload)\n",
    "        \n",
    "        # Print response status code and content length\n",
    "        print(f\"Response status code: {response.status_code}\")\n",
    "        print(f\"Response content length: {len(response.content)} bytes\")\n",
    "        \n",
    "        if response.status_code == 200:\n",
    "            result = response.json()\n",
    "            return result\n",
    "        else:\n",
    "            print(f\"Error: {response.text}\")\n",
    "            return None\n",
    "    except Exception as e:\n",
    "        print(f\"Exception occurred: {e}\")\n",
    "        return None"
   ]
  },
  {
   "cell_type": "code",
   "execution_count": null,
   "metadata": {},
   "source": [
    "# Send the image to the /crop endpoint and display the results\n",
    "if 'base64_image' in locals():\n",
    "    # Call the crop endpoint\n",
    "    print(\"Sending image to /crop endpoint...\")\n",
    "    result = crop_image(base64_image)\n",
    "    \n",
    "    if result and result.get('success'):\n",
    "        # Extract information from the response\n",
    "        cropped_base64 = result.get('cropped_image')\n",
    "        cover_type = result.get('cover_type')\n",
    "        message = result.get('message', 'No message provided')\n",
    "        \n",
    "        print(f\"Cover type detected: {cover_type}\")\n",
    "        print(f\"Message: {message}\")\n",
    "        \n",
    "        # Convert the cropped image back from base64\n",
    "        cropped_img = base64_to_image(cropped_base64)\n",
    "        \n",
    "        # Display the cropped image\n",
    "        plt.figure(figsize=(10, 8))\n",
    "        plt.imshow(cropped_img)\n",
    "        plt.title(f\"Cropped Image (Cover Type: {cover_type})\")\n",
    "        plt.axis('off')\n",
    "        plt.show()\n",
    "        \n",
    "        # Display original and cropped side by side for comparison\n",
    "        plt.figure(figsize=(20, 10))\n",
    "        \n",
    "        plt.subplot(1, 2, 1)\n",
    "        plt.imshow(original_img)\n",
    "        plt.title(\"Original Image\")\n",
    "        plt.axis('off')\n",
    "        \n",
    "        plt.subplot(1, 2, 2)\n",
    "        plt.imshow(cropped_img)\n",
    "        plt.title(f\"Cropped Image (Cover Type: {cover_type})\")\n",
    "        plt.axis('off')\n",
    "        \n",
    "        plt.tight_layout()\n",
    "        plt.show()\n",
    "        \n",
    "        # Save the cropped image to file (optional)\n",
    "        output_dir = \"test_results\"\n",
    "        if not os.path.exists(output_dir):\n",
    "            os.makedirs(output_dir)\n",
    "            \n",
    "        output_filename = f\"{os.path.splitext(selected_image)[0]}_cropped.jpg\"\n",
    "        output_path = os.path.join(output_dir, output_filename)\n",
    "        cropped_img.save(output_path)\n",
    "        print(f\"Cropped image saved to {output_path}\")\n",
    "    else:\n",
    "        print(\"Failed to crop the image or API call unsuccessful\")\n",
    "else:\n",
    "    print(\"Please run the previous cells to load an image first.\")"
   ]
  },
  {
   "cell_type": "markdown",
   "metadata": {},
   "source": [
    "## Test Multiple Images (Optional)\n",
    "\n",
    "The code below allows you to test multiple images in batch mode."
   ]
  },
  {
   "cell_type": "code",
   "execution_count": null,
   "metadata": {},
   "source": [
    "# Test all images in the folder\n",
    "def test_all_images():\n",
    "    image_files = list_image_files()\n",
    "    if not image_files:\n",
    "        print(\"No images found in 'test_images' directory.\")\n",
    "        return\n",
    "    \n",
    "    for image_file in image_files:\n",
    "        print(f\"\\nProcessing {image_file}...\")\n",
    "        image_path = os.path.join('test_images', image_file)\n",
    "        \n",
    "        # Convert the image to base64\n",
    "        base64_image = image_to_base64(image_path)\n",
    "        \n",
    "        # Call the crop endpoint\n",
    "        result = crop_image(base64_image)\n",
    "        \n",
    "        if result and result.get('success'):\n",
    "            print(f\"Cover type: {result.get('cover_type')}\")\n",
    "            print(f\"Message: {result.get('message', 'No message')}\")\n",
    "        else:\n",
    "            print(\"Failed to crop the image\")\n",
    "\n",
    "# Uncomment the following line to test all images\n",
    "# test_all_images()"
   ]
  }
 ],
 "metadata": {
  "language_info": {
   "name": "python",
   "codemirror_mode": {
    "name": "ipython",
    "version": 3
   },
   "version": "3.11"
  }
 },
 "nbformat": 4,
 "nbformat_minor": 4
}